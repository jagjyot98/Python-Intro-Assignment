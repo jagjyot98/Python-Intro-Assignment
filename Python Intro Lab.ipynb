{
 "cells": [
  {
   "cell_type": "markdown",
   "metadata": {},
   "source": [
    "# Q1.1"
   ]
  },
  {
   "cell_type": "code",
   "execution_count": 55,
   "metadata": {},
   "outputs": [
    {
     "name": "stdout",
     "output_type": "stream",
     "text": [
      "Entr your Name:abc\n",
      "Entr your age:22\n",
      "You are 78 years away from turning 100.\n",
      "You will turn 100 in 2098\n"
     ]
    }
   ],
   "source": [
    "name = input(\"Entr your Name:\")\n",
    "age = int(input(\"Entr your age:\"))\n",
    "\n",
    "print(\"You are \"+str(100-age)+\" years away from turning 100.\")\n",
    "print(\"You will turn 100 in \"+str(2020+78))"
   ]
  },
  {
   "cell_type": "markdown",
   "metadata": {},
   "source": [
    "# Q1.2"
   ]
  },
  {
   "cell_type": "code",
   "execution_count": 56,
   "metadata": {},
   "outputs": [
    {
     "name": "stdout",
     "output_type": "stream",
     "text": [
      "Entr a no.:3\n",
      "You will turn 100 in 2098\n",
      "You will turn 100 in 2098\n",
      "You will turn 100 in 2098\n"
     ]
    }
   ],
   "source": [
    "n=int(input(\"Entr a no.:\"))\n",
    "for i in range(n):\n",
    "    print(\"You will turn 100 in \"+str(2020+78))"
   ]
  },
  {
   "cell_type": "markdown",
   "metadata": {},
   "source": [
    "# Q2."
   ]
  },
  {
   "cell_type": "code",
   "execution_count": 8,
   "metadata": {},
   "outputs": [
    {
     "name": "stdout",
     "output_type": "stream",
     "text": [
      "[1, 1, 2, 3]\n"
     ]
    }
   ],
   "source": [
    "a = [1, 1, 2, 3, 5, 8, 13, 21, 34, 55, 89]\n",
    "b=[]\n",
    "\n",
    "for i in range(len(a)):\n",
    "    if a[i]<5:\n",
    "        b.append(a[i])\n",
    "print(b)"
   ]
  },
  {
   "cell_type": "markdown",
   "metadata": {},
   "source": [
    "# Q2.2"
   ]
  },
  {
   "cell_type": "code",
   "execution_count": 34,
   "metadata": {},
   "outputs": [
    {
     "name": "stdout",
     "output_type": "stream",
     "text": [
      "[1, 1, 2, 3]\n"
     ]
    }
   ],
   "source": [
    "print( [x for x in a if x < 5] )  # One liner"
   ]
  },
  {
   "cell_type": "markdown",
   "metadata": {},
   "source": [
    "# Q2.3"
   ]
  },
  {
   "cell_type": "code",
   "execution_count": 23,
   "metadata": {},
   "outputs": [
    {
     "name": "stdout",
     "output_type": "stream",
     "text": [
      "Entr no.:56\n",
      "[1, 1, 2, 3, 5, 8, 13, 21, 34, 55]\n"
     ]
    }
   ],
   "source": [
    "n = int(input(\"Entr no.:\"))\n",
    "c=[]\n",
    "for i in range(len(a)):\n",
    "    if a[i]<n:\n",
    "        c.append(a[i])\n",
    "print(c)"
   ]
  },
  {
   "cell_type": "markdown",
   "metadata": {},
   "source": [
    "# Q3"
   ]
  },
  {
   "cell_type": "code",
   "execution_count": 31,
   "metadata": {},
   "outputs": [
    {
     "name": "stdout",
     "output_type": "stream",
     "text": [
      "Entr no.:8\n",
      "1,2,3,5,8,13,21,34,"
     ]
    }
   ],
   "source": [
    "def fibo(n):\n",
    "    a=0\n",
    "    b=1\n",
    "    for i in range(n):\n",
    "        c=a+b\n",
    "        print(c,end=\",\")\n",
    "        a=b\n",
    "        b=c\n",
    "        \n",
    "x = int(input(\"Entr no.:\"))\n",
    "fibo(x)"
   ]
  },
  {
   "cell_type": "markdown",
   "metadata": {},
   "source": [
    "# Q.4"
   ]
  },
  {
   "cell_type": "code",
   "execution_count": 46,
   "metadata": {},
   "outputs": [
    {
     "name": "stdout",
     "output_type": "stream",
     "text": [
      "Entr list:111122333344555\n",
      "['1', '2', '3', '4', '5']\n"
     ]
    }
   ],
   "source": [
    "def remove_sim(n):\n",
    "    v=[]\n",
    "    for i in n:\n",
    "        if i not in v:\n",
    "            v.append(i)\n",
    "    return v\n",
    "x = input(\"Entr list:\")\n",
    "print(remove_sim(x))"
   ]
  },
  {
   "cell_type": "markdown",
   "metadata": {},
   "source": [
    "# Q4.1"
   ]
  },
  {
   "cell_type": "code",
   "execution_count": 45,
   "metadata": {},
   "outputs": [
    {
     "name": "stdout",
     "output_type": "stream",
     "text": [
      "Entr list:11122333\n",
      "['3', '2', '1']\n"
     ]
    }
   ],
   "source": [
    "def remove_sim_sets(n):\n",
    "    v= list(set(n))\n",
    "    return v\n",
    "x = input(\"Entr list:\")\n",
    "print(remove_sim_sets(x))"
   ]
  },
  {
   "cell_type": "markdown",
   "metadata": {},
   "source": [
    "# Q5."
   ]
  },
  {
   "cell_type": "code",
   "execution_count": 51,
   "metadata": {},
   "outputs": [
    {
     "name": "stdout",
     "output_type": "stream",
     "text": [
      "Entr a no.:22\n",
      "22 is not prime.\n"
     ]
    }
   ],
   "source": [
    "def prime(n):\n",
    "    x=0\n",
    "    for i in range(2,n//2):\n",
    "        if n%i==0:\n",
    "            x=1\n",
    "            print(str(n)+\" is not prime.\")\n",
    "            break\n",
    "        if x==0:\n",
    "            print(str(n)+\" is a Prime.\")\n",
    "n=int(input(\"Entr a no.:\"))\n",
    "prime(n)"
   ]
  }
 ],
 "metadata": {
  "kernelspec": {
   "display_name": "Python 3",
   "language": "python",
   "name": "python3"
  },
  "language_info": {
   "codemirror_mode": {
    "name": "ipython",
    "version": 3
   },
   "file_extension": ".py",
   "mimetype": "text/x-python",
   "name": "python",
   "nbconvert_exporter": "python",
   "pygments_lexer": "ipython3",
   "version": "3.7.1"
  }
 },
 "nbformat": 4,
 "nbformat_minor": 4
}
